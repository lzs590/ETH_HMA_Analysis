{
 "cells": [
  {
   "cell_type": "markdown",
   "metadata": {},
   "source": [
    "# ETH HMA 策略分析 - 快速开始\n",
    "\n",
    "欢迎使用ETH HMA策略分析系统！本notebook将帮助您快速上手。\n",
    "\n",
    "## 系统功能\n",
    "- 📊 数据加载与预处理\n",
    "- 📈 趋势识别与拐点分析\n",
    "- 🎯 做多/做空策略分析\n",
    "- ⚠️ 风险收益分析\n",
    "- 📋 策略优化建议\n",
    "\n",
    "## 使用流程\n",
    "1. 运行本notebook进行环境设置\n",
    "2. 运行 `01_数据加载与预处理.ipynb` 加载数据\n",
    "3. 运行 `02_4h级别策略分析.ipynb` 进行深度分析\n",
    "4. 根据需要运行其他分析notebook\n"
   ]
  },
  {
   "cell_type": "code",
   "execution_count": 1,
   "metadata": {},
   "outputs": [
    {
     "name": "stdout",
     "output_type": "stream",
     "text": [
      "✅ 基础库导入完成\n"
     ]
    }
   ],
   "source": [
    "# 1. 环境设置和库导入\n",
    "import sys\n",
    "import os\n",
    "sys.path.append('../src')\n",
    "\n",
    "import pandas as pd\n",
    "import numpy as np\n",
    "import matplotlib.pyplot as plt\n",
    "import seaborn as sns\n",
    "from pathlib import Path\n",
    "import warnings\n",
    "warnings.filterwarnings('ignore')\n",
    "\n",
    "# 设置Jupyter内联显示\n",
    "%matplotlib inline\n",
    "\n",
    "print(\"✅ 基础库导入完成\")\n"
   ]
  },
  {
   "cell_type": "code",
   "execution_count": 2,
   "metadata": {},
   "outputs": [
    {
     "name": "stdout",
     "output_type": "stream",
     "text": [
      "✅ 项目模块导入完成\n"
     ]
    }
   ],
   "source": [
    "# 2. 导入项目模块\n",
    "from utils.jupyter_utils import JupyterConfig, JupyterDataLoader, JupyterAnalyzer\n",
    "from analyzers.trend_analyzer import TrendAnalyzer\n",
    "from visualizers.jupyter_visualizer import JupyterVisualizer\n",
    "\n",
    "print(\"✅ 项目模块导入完成\")\n"
   ]
  },
  {
   "cell_type": "code",
   "execution_count": 3,
   "metadata": {},
   "outputs": [
    {
     "name": "stdout",
     "output_type": "stream",
     "text": [
      "✅ Jupyter环境配置完成\n",
      "✅ Jupyter环境设置完成\n"
     ]
    }
   ],
   "source": [
    "# 3. 设置Jupyter环境\n",
    "JupyterConfig.setup_all()\n",
    "\n",
    "# 初始化工具\n",
    "data_loader = JupyterDataLoader()\n",
    "analyzer = JupyterAnalyzer()\n",
    "trend_analyzer = TrendAnalyzer()\n",
    "jupyter_viz = JupyterVisualizer()\n",
    "\n",
    "print(\"✅ Jupyter环境设置完成\")\n"
   ]
  },
  {
   "cell_type": "code",
   "execution_count": 4,
   "metadata": {},
   "outputs": [
    {
     "name": "stdout",
     "output_type": "stream",
     "text": [
      "📁 找到 4 个数据文件:\n",
      "  - ETHUSDT_1h_processed_20250926_214054.parquet\n",
      "  - ETHUSDT_1h_raw_20250926_214053.parquet\n",
      "  - ETHUSDT_4h_processed_20250926_214833.parquet\n",
      "  - ETHUSDT_4h_raw_20250926_214833.parquet\n",
      "✅ 数据文件检查完成\n"
     ]
    }
   ],
   "source": [
    "# 4. 检查数据文件\n",
    "data_dir = Path(\"../src/utils/data\")\n",
    "data_files = list(data_dir.glob(\"*.parquet\"))\n",
    "\n",
    "print(f\"📁 找到 {len(data_files)} 个数据文件:\")\n",
    "for file in data_files:\n",
    "    print(f\"  - {file.name}\")\n",
    "\n",
    "if not data_files:\n",
    "    print(\"❌ 未找到数据文件，请先运行数据收集脚本\")\n",
    "    print(\"💡 运行命令: python scripts/main.py\")\n",
    "else:\n",
    "    print(\"✅ 数据文件检查完成\")\n"
   ]
  },
  {
   "cell_type": "code",
   "execution_count": 5,
   "metadata": {},
   "outputs": [
    {
     "name": "stdout",
     "output_type": "stream",
     "text": [
      "❌ 数据加载失败: 未找到4h数据文件\n",
      "💡 请检查数据文件或运行数据收集脚本\n"
     ]
    }
   ],
   "source": [
    "# 5. 快速数据预览\n",
    "if data_files:\n",
    "    try:\n",
    "        # 加载4h数据预览\n",
    "        df_4h = data_loader.load_4h_data()\n",
    "        \n",
    "        # 显示数据摘要\n",
    "        data_loader.display_data_summary(df_4h)\n",
    "        \n",
    "        # 快速分析\n",
    "        print(\"\\n📊 快速分析图表:\")\n",
    "        fig1, fig2 = analyzer.quick_price_analysis(df_4h, \"ETH 4h数据快速分析\")\n",
    "        \n",
    "        # 保存到全局变量\n",
    "        globals()['df_4h'] = df_4h\n",
    "        \n",
    "        print(\"\\n✅ 数据预览完成，可以开始分析！\")\n",
    "        \n",
    "    except Exception as e:\n",
    "        print(f\"❌ 数据加载失败: {e}\")\n",
    "        print(\"💡 请检查数据文件或运行数据收集脚本\")\n",
    "else:\n",
    "    print(\"❌ 无数据文件，请先运行数据收集脚本\")\n"
   ]
  },
  {
   "cell_type": "code",
   "execution_count": 6,
   "metadata": {},
   "outputs": [
    {
     "name": "stdout",
     "output_type": "stream",
     "text": [
      "🔍 系统状态检查:\n",
      "Python版本: 3.13.6 (tags/v3.13.6:4e66535, Aug  6 2025, 14:36:00) [MSC v.1944 64 bit (AMD64)]\n",
      "Pandas版本: 2.3.2\n",
      "Matplotlib版本: 3.10.6\n",
      "Seaborn版本: 0.13.2\n",
      "✅ 中文字体支持: ['Microsoft YaHei', 'Microsoft YaHei', 'Microsoft Sans Serif']\n",
      "\n",
      "🎉 系统准备就绪！可以开始分析。\n"
     ]
    }
   ],
   "source": [
    "# 6. 系统状态检查\n",
    "print(\"🔍 系统状态检查:\")\n",
    "print(f\"Python版本: {sys.version}\")\n",
    "print(f\"Pandas版本: {pd.__version__}\")\n",
    "print(f\"Matplotlib版本: {plt.matplotlib.__version__}\")\n",
    "print(f\"Seaborn版本: {sns.__version__}\")\n",
    "\n",
    "# 检查中文字体支持\n",
    "import matplotlib.font_manager as fm\n",
    "chinese_fonts = [f.name for f in fm.fontManager.ttflist if 'Microsoft' in f.name or 'SimHei' in f.name]\n",
    "if chinese_fonts:\n",
    "    print(f\"✅ 中文字体支持: {chinese_fonts[:3]}\")\n",
    "else:\n",
    "    print(\"⚠️ 未检测到中文字体，图表可能显示为方框\")\n",
    "\n",
    "print(\"\\n🎉 系统准备就绪！可以开始分析。\")\n"
   ]
  },
  {
   "cell_type": "code",
   "execution_count": null,
   "metadata": {},
   "outputs": [],
   "source": []
  }
 ],
 "metadata": {
  "kernelspec": {
   "display_name": ".venv",
   "language": "python",
   "name": "python3"
  },
  "language_info": {
   "codemirror_mode": {
    "name": "ipython",
    "version": 3
   },
   "file_extension": ".py",
   "mimetype": "text/x-python",
   "name": "python",
   "nbconvert_exporter": "python",
   "pygments_lexer": "ipython3",
   "version": "3.13.6"
  }
 },
 "nbformat": 4,
 "nbformat_minor": 4
}
