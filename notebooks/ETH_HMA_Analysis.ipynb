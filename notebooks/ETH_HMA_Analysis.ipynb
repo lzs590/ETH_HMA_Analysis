{
  "cells": [
    {
      "cell_type": "markdown",
      "metadata": {},
      "source": [
        "# ETH HMA 数据分析 Notebook\n",
        "\n",
        "这个Notebook用于分析ETH历史数据和HMA技术指标，帮助您进行量化分析和策略开发。\n",
        "\n",
        "## 数据概览\n",
        "- **数据源**: 币安API\n",
        "- **时间范围**: 2022年9月 - 2025年9月\n",
        "- **时间间隔**: 1小时和4小时\n",
        "- **技术指标**: HMA_45, SMA_20, SMA_50等\n"
      ]
    },
    {
      "cell_type": "markdown",
      "metadata": {},
      "source": [
        "## 1. 导入必要的库\n"
      ]
    },
    {
      "cell_type": "code",
      "execution_count": null,
      "metadata": {},
      "outputs": [],
      "source": [
        "import pandas as pd\n",
        "import numpy as np\n",
        "import matplotlib.pyplot as plt\n",
        "import seaborn as sns\n",
        "from pathlib import Path\n",
        "import warnings\n",
        "warnings.filterwarnings('ignore')\n",
        "\n",
        "# 设置中文字体支持\n",
        "plt.rcParams['font.sans-serif'] = ['Arial Unicode MS', 'SimHei']\n",
        "plt.rcParams['axes.unicode_minus'] = False\n",
        "\n",
        "# 设置pandas显示选项\n",
        "pd.set_option('display.max_columns', None)\n",
        "pd.set_option('display.width', None)\n",
        "pd.set_option('display.max_colwidth', None)\n",
        "\n",
        "print(\"✅ 库导入完成\")\n"
      ]
    },
    {
      "cell_type": "markdown",
      "metadata": {},
      "source": [
        "## 2. 加载数据\n"
      ]
    },
    {
      "cell_type": "code",
      "execution_count": null,
      "metadata": {},
      "outputs": [],
      "source": [
        "# 加载1小时和4小时的处理后数据\n",
        "data_dir = Path('data')\n",
        "\n",
        "# 自动查找最新的处理文件\n",
        "processed_files = list(data_dir.glob(\"ETHUSDT_*_processed_*.parquet\"))\n",
        "\n",
        "# 加载数据\n",
        "df_1h = None\n",
        "df_4h = None\n",
        "\n",
        "for file_path in processed_files:\n",
        "    if '1h' in file_path.name:\n",
        "        df_1h = pd.read_parquet(file_path)\n",
        "        df_1h.set_index('open_time', inplace=True)\n",
        "        print(f\"✅ 1小时数据加载完成: {len(df_1h):,} 条记录\")\n",
        "    elif '4h' in file_path.name:\n",
        "        df_4h = pd.read_parquet(file_path)\n",
        "        df_4h.set_index('open_time', inplace=True)\n",
        "        print(f\"✅ 4小时数据加载完成: {len(df_4h):,} 条记录\")\n",
        "\n",
        "if df_1h is not None:\n",
        "    print(f\"📅 时间范围: {df_1h.index.min()} 到 {df_1h.index.max()}\")\n",
        "    print(f\"📊 数据列: {list(df_1h.columns)}\")\n"
      ]
    },
    {
      "cell_type": "markdown",
      "metadata": {},
      "source": [
        "## 3. 数据概览和基本信息\n"
      ]
    },
    {
      "cell_type": "code",
      "execution_count": null,
      "metadata": {},
      "outputs": [],
      "source": [
        "# 显示数据基本信息\n",
        "print(\"📊 1小时数据概览:\")\n",
        "print(f\"数据形状: {df_1h.shape}\")\n",
        "print(f\"列名: {list(df_1h.columns)}\")\n",
        "print(\"\\n前5行数据:\")\n",
        "df_1h.head()\n"
      ]
    },
    {
      "cell_type": "code",
      "execution_count": null,
      "metadata": {},
      "outputs": [],
      "source": [
        "# 显示数据统计信息\n",
        "print(\"📈 价格统计信息 (1小时数据):\")\n",
        "price_stats = df_1h[['open', 'high', 'low', 'close', 'volume']].describe()\n",
        "print(price_stats)\n",
        "\n",
        "print(\"\\n🔍 HMA指标统计信息:\")\n",
        "hma_stats = df_1h[['HMA_45', 'price_change', 'hma_deviation']].describe()\n",
        "print(hma_stats)\n"
      ]
    },
    {
      "cell_type": "markdown",
      "metadata": {},
      "source": [
        "## 4. 价格走势可视化\n"
      ]
    },
    {
      "cell_type": "code",
      "execution_count": null,
      "metadata": {},
      "outputs": [],
      "source": [
        "# 创建价格走势图\n",
        "fig, axes = plt.subplots(2, 2, figsize=(15, 10))\n",
        "fig.suptitle('ETH HMA 分析', fontsize=16, fontweight='bold')\n",
        "\n",
        "# 1. 收盘价走势\n",
        "axes[0, 0].plot(df_1h.index, df_1h['close'], linewidth=0.8, alpha=0.8)\n",
        "axes[0, 0].set_title('ETH 收盘价走势 (1小时)')\n",
        "axes[0, 0].set_ylabel('价格 (USDT)')\n",
        "axes[0, 0].grid(True, alpha=0.3)\n",
        "\n",
        "# 2. 价格与HMA对比\n",
        "axes[0, 1].plot(df_1h.index, df_1h['close'], label='收盘价', linewidth=0.8, alpha=0.8)\n",
        "axes[0, 1].plot(df_1h.index, df_1h['HMA_45'], label='HMA_45', linewidth=1.2, alpha=0.9)\n",
        "axes[0, 1].set_title('价格与HMA对比')\n",
        "axes[0, 1].set_ylabel('价格 (USDT)')\n",
        "axes[0, 1].legend()\n",
        "axes[0, 1].grid(True, alpha=0.3)\n",
        "\n",
        "# 3. 成交量\n",
        "axes[1, 0].plot(df_1h.index, df_1h['volume'], linewidth=0.8, alpha=0.8, color='orange')\n",
        "axes[1, 0].set_title('成交量走势')\n",
        "axes[1, 0].set_ylabel('成交量 (ETH)')\n",
        "axes[1, 0].grid(True, alpha=0.3)\n",
        "\n",
        "# 4. HMA偏离度\n",
        "axes[1, 1].plot(df_1h.index, df_1h['hma_deviation'], linewidth=0.8, alpha=0.8, color='purple')\n",
        "axes[1, 1].axhline(y=0, color='black', linestyle='--', alpha=0.5)\n",
        "axes[1, 1].set_title('HMA与价格偏离度')\n",
        "axes[1, 1].set_ylabel('偏离度 (%)')\n",
        "axes[1, 1].grid(True, alpha=0.3)\n",
        "\n",
        "plt.tight_layout()\n",
        "plt.show()\n"
      ]
    }
  ],
  "metadata": {
    "language_info": {
      "name": "python"
    }
  },
  "nbformat": 4,
  "nbformat_minor": 2
}
