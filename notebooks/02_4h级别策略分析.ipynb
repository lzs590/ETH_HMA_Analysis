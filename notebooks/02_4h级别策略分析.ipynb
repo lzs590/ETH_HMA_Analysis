{
  "cells": [
    {
      "cell_type": "markdown",
      "metadata": {},
      "source": [
        "# ETH HMA 策略分析 - 4h级别深度分析\n",
        "\n",
        "本notebook专注于4h级别的HMA策略分析，包括：\n",
        "- 趋势识别和拐点分析\n",
        "- 做多/做空策略表现\n",
        "- 风险收益分析\n",
        "- 策略优化建议\n",
        "\n",
        "## 分析目标\n",
        "- 基于HMA斜率变化的趋势识别\n",
        "- 上涨趋势做多策略分析\n",
        "- 下跌趋势做空策略分析\n",
        "- 风险控制和收益优化\n"
      ]
    },
    {
      "cell_type": "code",
      "execution_count": null,
      "metadata": {},
      "outputs": [],
      "source": [
        "# 导入必要的库和模块\n",
        "import sys\n",
        "import os\n",
        "sys.path.append('../src')\n",
        "\n",
        "import pandas as pd\n",
        "import numpy as np\n",
        "import matplotlib.pyplot as plt\n",
        "import seaborn as sns\n",
        "from pathlib import Path\n",
        "import warnings\n",
        "warnings.filterwarnings('ignore')\n",
        "\n",
        "# 设置中文字体支持\n",
        "plt.rcParams['font.sans-serif'] = ['Microsoft YaHei', 'SimHei', 'Arial Unicode MS']\n",
        "plt.rcParams['axes.unicode_minus'] = False\n",
        "plt.rcParams['font.size'] = 12\n",
        "\n",
        "# 设置Jupyter内联显示\n",
        "%matplotlib inline\n",
        "\n",
        "# 导入项目模块\n",
        "from analyzers.trend_analyzer import TrendAnalyzer\n",
        "from visualizers.jupyter_visualizer import JupyterVisualizer\n",
        "\n",
        "print(\"✅ 所有模块导入完成\")\n"
      ]
    },
    {
      "cell_type": "code",
      "execution_count": null,
      "metadata": {},
      "outputs": [],
      "source": [
        "# 初始化分析器和可视化器\n",
        "trend_analyzer = TrendAnalyzer()\n",
        "jupyter_viz = JupyterVisualizer(figsize=(15, 10))\n",
        "\n",
        "# 加载4h数据（假设已从上一个notebook加载）\n",
        "if 'df_4h' in globals():\n",
        "    print(\"✅ 4h数据已加载\")\n",
        "    print(f\"📊 数据形状: {df_4h.shape}\")\n",
        "    print(f\"📅 时间范围: {df_4h.index[0]} 到 {df_4h.index[-1]}\")\n",
        "else:\n",
        "    print(\"❌ 请先运行数据加载notebook\")\n",
        "    # 备用数据加载\n",
        "    data_file = Path(\"../src/utils/data/ETHUSDT_4h_processed_20250926_214833.parquet\")\n",
        "    if data_file.exists():\n",
        "        df_4h = pd.read_parquet(data_file)\n",
        "        print(\"✅ 备用数据加载成功\")\n",
        "    else:\n",
        "        print(\"❌ 数据文件不存在\")\n"
      ]
    },
    {
      "cell_type": "code",
      "execution_count": null,
      "metadata": {},
      "outputs": [],
      "source": [
        "# 执行趋势分析\n",
        "print(\"🔍 开始执行趋势分析...\")\n",
        "\n",
        "# 运行完整的趋势分析\n",
        "analysis_result = trend_analyzer.run_complete_analysis(\n",
        "    df_4h, \n",
        "    hma_period=45, \n",
        "    slope_threshold=0.001\n",
        ")\n",
        "\n",
        "print(\"✅ 趋势分析完成\")\n",
        "print(f\"📊 分析结果包含: {list(analysis_result.keys())}\")\n",
        "\n",
        "# 提取关键结果\n",
        "intervals = analysis_result.get('intervals', [])\n",
        "events = analysis_result.get('events', [])\n",
        "report = analysis_result.get('report', {})\n",
        "\n",
        "print(f\"📈 识别到 {len(intervals)} 个趋势区间\")\n",
        "print(f\"🎯 识别到 {len(events)} 个事件\")\n"
      ]
    },
    {
      "cell_type": "code",
      "execution_count": null,
      "metadata": {},
      "outputs": [],
      "source": [
        "# 显示策略分析摘要\n",
        "uptrend_analysis = report.get('uptrend_analysis', {})\n",
        "downtrend_analysis = report.get('downtrend_analysis', {})\n",
        "\n",
        "print(\"📊 4h级别策略分析摘要\")\n",
        "print(\"=\" * 60)\n",
        "\n",
        "# 做多策略摘要\n",
        "print(\"\\n🟢 做多策略 (上涨趋势):\")\n",
        "print(f\"  总趋势数: {uptrend_analysis.get('total_uptrends', 0)}\")\n",
        "print(f\"  平均理想收益: {uptrend_analysis.get('avg_long_ideal_profit', 0):.2f}%\")\n",
        "print(f\"  平均实际收益: {uptrend_analysis.get('avg_long_actual_profit', 0):.2f}%\")\n",
        "print(f\"  平均风险损失: {uptrend_analysis.get('avg_long_risk_loss', 0):.2f}%\")\n",
        "print(f\"  平均风险收益比: {uptrend_analysis.get('avg_risk_reward_ratio', 0):.2f}\")\n",
        "print(f\"  胜率: {uptrend_analysis.get('win_rate', 0):.2%}\")\n",
        "\n",
        "# 做空策略摘要\n",
        "print(\"\\n🔴 做空策略 (下跌趋势):\")\n",
        "print(f\"  总趋势数: {downtrend_analysis.get('total_downtrends', 0)}\")\n",
        "print(f\"  平均理想收益: {downtrend_analysis.get('avg_short_ideal_profit', 0):.2f}%\")\n",
        "print(f\"  平均实际收益: {downtrend_analysis.get('avg_short_actual_profit', 0):.2f}%\")\n",
        "print(f\"  平均风险损失: {downtrend_analysis.get('avg_short_risk_loss', 0):.2f}%\")\n",
        "print(f\"  平均风险收益比: {downtrend_analysis.get('avg_risk_reward_ratio', 0):.2f}\")\n",
        "print(f\"  胜率: {downtrend_analysis.get('win_rate', 0):.2%}\")\n",
        "\n",
        "print(\"\\n\" + \"=\" * 60)\n"
      ]
    },
    {
      "cell_type": "code",
      "execution_count": null,
      "metadata": {},
      "outputs": [],
      "source": [
        "# 1. 价格走势和HMA曲线图\n",
        "print(\"📈 生成价格走势和HMA曲线图...\")\n",
        "\n",
        "fig, ax = jupyter_viz.plot_price_and_hma(\n",
        "    df_4h, \n",
        "    hma_col='HMA_45', \n",
        "    title=\"ETH 4h级别价格走势与HMA曲线\",\n",
        "    show_turning_points=True\n",
        ")\n"
      ]
    },
    {
      "cell_type": "code",
      "execution_count": null,
      "metadata": {},
      "outputs": [],
      "source": [
        "# 2. 策略表现分析图\n",
        "print(\"📊 生成策略表现分析图...\")\n",
        "\n",
        "fig, axes = jupyter_viz.plot_strategy_performance(\n",
        "    uptrend_analysis, \n",
        "    downtrend_analysis, \n",
        "    title=\"4h级别策略表现分析\"\n",
        ")\n"
      ]
    },
    {
      "cell_type": "code",
      "execution_count": null,
      "metadata": {},
      "outputs": [],
      "source": [
        "# 3. 风险分析图\n",
        "print(\"⚠️ 生成风险分析图...\")\n",
        "\n",
        "fig, axes = jupyter_viz.plot_risk_analysis(\n",
        "    uptrend_analysis, \n",
        "    downtrend_analysis, \n",
        "    title=\"4h级别风险分析\"\n",
        ")\n"
      ]
    },
    {
      "cell_type": "code",
      "execution_count": null,
      "metadata": {},
      "outputs": [],
      "source": [
        "# 4. 趋势区间分析图\n",
        "print(\"📈 生成趋势区间分析图...\")\n",
        "\n",
        "fig, ax = jupyter_viz.plot_trend_intervals(\n",
        "    df_4h, \n",
        "    intervals, \n",
        "    title=\"4h级别趋势区间分析\"\n",
        ")\n"
      ]
    },
    {
      "cell_type": "code",
      "execution_count": null,
      "metadata": {},
      "outputs": [],
      "source": [
        "# 5. 综合仪表板\n",
        "print(\"📊 生成综合仪表板...\")\n",
        "\n",
        "fig, axes = jupyter_viz.create_interactive_dashboard(\n",
        "    df_4h, \n",
        "    uptrend_analysis, \n",
        "    downtrend_analysis\n",
        ")\n"
      ]
    },
    {
      "cell_type": "code",
      "execution_count": null,
      "metadata": {},
      "outputs": [],
      "source": [
        "# 6. 详细数据分析\n",
        "print(\"🔍 详细数据分析...\")\n",
        "\n",
        "# 显示趋势区间详情\n",
        "if intervals:\n",
        "    print(f\"\\n📈 趋势区间详情 (前10个):\")\n",
        "    for i, interval in enumerate(intervals[:10]):\n",
        "        print(f\"  区间 {i+1}: {interval['direction']}趋势, \"\n",
        "              f\"持续时间: {interval['duration']}周期, \"\n",
        "              f\"价格变化: {interval['price_change_pct']:.2f}%, \"\n",
        "              f\"PFE: {interval['pfe_pct']:.2f}%, \"\n",
        "              f\"MAE: {interval['mae_pct']:.2f}%\")\n",
        "\n",
        "# 显示事件详情\n",
        "if events:\n",
        "    print(f\"\\n🎯 事件详情 (前10个):\")\n",
        "    for i, event in enumerate(events[:10]):\n",
        "        print(f\"  事件 {i+1}: {event['event_type']}, \"\n",
        "              f\"时间: {event['timestamp']}, \"\n",
        "              f\"价格: ${event['price']:.2f}, \"\n",
        "              f\"影响: {event['impact']:.2f}%\")\n",
        "\n",
        "print(f\"\\n✅ 4h级别策略分析完成！\")\n"
      ]
    }
  ],
  "metadata": {
    "language_info": {
      "name": "python"
    }
  },
  "nbformat": 4,
  "nbformat_minor": 2
}
