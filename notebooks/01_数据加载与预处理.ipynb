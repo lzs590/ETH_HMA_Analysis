{
  "cells": [
    {
      "cell_type": "markdown",
      "metadata": {},
      "source": [
        "# ETH HMA 策略分析 - 数据加载与预处理\n",
        "\n",
        "本notebook用于加载和预处理ETH历史数据，为后续的策略分析做准备。\n",
        "\n",
        "## 功能说明\n",
        "- 加载ETH历史数据（1h和4h级别）\n",
        "- 计算HMA技术指标\n",
        "- 数据质量检查和清洗\n",
        "- 为策略分析准备数据\n"
      ]
    },
    {
      "cell_type": "code",
      "execution_count": null,
      "metadata": {},
      "outputs": [],
      "source": [
        "# 导入必要的库\n",
        "import sys\n",
        "import os\n",
        "sys.path.append('../src')\n",
        "\n",
        "import pandas as pd\n",
        "import numpy as np\n",
        "import matplotlib.pyplot as plt\n",
        "import seaborn as sns\n",
        "from pathlib import Path\n",
        "import warnings\n",
        "warnings.filterwarnings('ignore')\n",
        "\n",
        "# 设置中文字体支持\n",
        "plt.rcParams['font.sans-serif'] = ['Microsoft YaHei', 'SimHei', 'Arial Unicode MS']\n",
        "plt.rcParams['axes.unicode_minus'] = False\n",
        "plt.rcParams['font.size'] = 12\n",
        "\n",
        "# 设置pandas显示选项\n",
        "pd.set_option('display.max_columns', None)\n",
        "pd.set_option('display.width', None)\n",
        "pd.set_option('display.max_colwidth', None)\n",
        "\n",
        "print(\"✅ 库导入完成\")\n"
      ]
    },
    {
      "cell_type": "code",
      "execution_count": null,
      "metadata": {},
      "outputs": [],
      "source": [
        "# 导入项目模块\n",
        "from managers.project_manager import ProjectManager\n",
        "from analyzers.trend_analyzer import TrendAnalyzer\n",
        "from utils.config import *\n",
        "\n",
        "print(\"✅ 项目模块导入完成\")\n"
      ]
    },
    {
      "cell_type": "code",
      "execution_count": null,
      "metadata": {},
      "outputs": [],
      "source": [
        "# 初始化项目管理器\n",
        "project_manager = ProjectManager()\n",
        "\n",
        "# 检查数据文件\n",
        "data_dir = Path(\"../src/utils/data\")\n",
        "data_files = list(data_dir.glob(\"*.parquet\"))\n",
        "print(f\"📁 找到 {len(data_files)} 个数据文件:\")\n",
        "for file in data_files:\n",
        "    print(f\"  - {file.name}\")\n"
      ]
    },
    {
      "cell_type": "code",
      "execution_count": null,
      "metadata": {},
      "outputs": [],
      "source": [
        "# 加载4h级别数据（主要分析目标）\n",
        "data_file = data_dir / \"ETHUSDT_4h_processed_20250926_214833.parquet\"\n",
        "if data_file.exists():\n",
        "    df_4h = pd.read_parquet(data_file)\n",
        "    print(f\"✅ 4h数据加载成功: {len(df_4h)} 条记录\")\n",
        "    print(f\"📅 时间范围: {df_4h.index[0]} 到 {df_4h.index[-1]}\")\n",
        "else:\n",
        "    print(\"❌ 4h数据文件不存在，请先运行数据收集脚本\")\n",
        "    df_4h = None\n"
      ]
    },
    {
      "cell_type": "code",
      "execution_count": null,
      "metadata": {},
      "outputs": [],
      "source": [
        "# 数据概览\n",
        "if df_4h is not None:\n",
        "    print(\"📊 4h数据概览:\")\n",
        "    print(f\"数据形状: {df_4h.shape}\")\n",
        "    print(f\"\\n列名: {list(df_4h.columns)}\")\n",
        "    print(f\"\\n数据类型:\")\n",
        "    print(df_4h.dtypes)\n",
        "    print(f\"\\n前5行数据:\")\n",
        "    display(df_4h.head())\n"
      ]
    },
    {
      "cell_type": "code",
      "execution_count": null,
      "metadata": {},
      "outputs": [],
      "source": [
        "# 检查HMA指标\n",
        "if df_4h is not None:\n",
        "    hma_cols = [col for col in df_4h.columns if 'HMA' in col]\n",
        "    print(f\"🔍 HMA指标列: {hma_cols}\")\n",
        "    \n",
        "    if hma_cols:\n",
        "        print(f\"\\nHMA指标统计:\")\n",
        "        display(df_4h[hma_cols].describe())\n",
        "    else:\n",
        "        print(\"❌ 未找到HMA指标，请检查数据处理\")\n",
        "        \n",
        "    # 检查缺失值\n",
        "    print(f\"\\n缺失值统计:\")\n",
        "    missing_data = df_4h.isnull().sum()\n",
        "    print(missing_data[missing_data > 0])\n"
      ]
    },
    {
      "cell_type": "code",
      "execution_count": null,
      "metadata": {},
      "outputs": [],
      "source": [
        "# 保存处理后的数据到全局变量\n",
        "if df_4h is not None:\n",
        "    # 确保数据按时间排序\n",
        "    df_4h = df_4h.sort_index()\n",
        "    \n",
        "    # 保存到全局变量\n",
        "    globals()['df_4h'] = df_4h\n",
        "    \n",
        "    print(\"✅ 4h数据准备完成，可用于后续分析\")\n",
        "    print(f\"📈 价格范围: ${df_4h['close'].min():.2f} - ${df_4h['close'].max():.2f}\")\n",
        "    print(f\"📅 分析期间: {df_4h.index[0].strftime('%Y-%m-%d')} 到 {df_4h.index[-1].strftime('%Y-%m-%d')}\")\n",
        "else:\n",
        "    print(\"❌ 数据加载失败，请检查数据文件\")\n"
      ]
    }
  ],
  "metadata": {
    "language_info": {
      "name": "python"
    }
  },
  "nbformat": 4,
  "nbformat_minor": 2
}
